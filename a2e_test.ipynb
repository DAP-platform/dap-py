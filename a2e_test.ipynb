{
 "cells": [
  {
   "cell_type": "code",
   "execution_count": null,
   "id": "ce722843",
   "metadata": {},
   "outputs": [],
   "source": [
    "%load_ext autoreload\n",
    "%autoreload 2"
   ]
  },
  {
   "cell_type": "code",
   "execution_count": null,
   "id": "9b2d489a-5b25-4a5f-a39a-ac7cb4e961b4",
   "metadata": {},
   "outputs": [],
   "source": [
    "from dap_py import dap"
   ]
  },
  {
   "cell_type": "code",
   "execution_count": null,
   "id": "fcef431f-3d87-4eeb-8897-03d468bbfc45",
   "metadata": {},
   "outputs": [],
   "source": [
    "a2e = dap('a2e.energy.gov')\n",
    "a2e.setup_cert_auth(username='', password='')"
   ]
  },
  {
   "cell_type": "code",
   "execution_count": null,
   "id": "a94a5d82-e3e6-45f5-97b8-f3ce1153f0c9",
   "metadata": {},
   "outputs": [],
   "source": [
    "filter_a2e = {\n",
    "    'Dataset': 'wfip2/lidar.z04.a0',\n",
    "    'date_time': {\n",
    "        'between': ['20151001000000', '20151004000000']\n",
    "    },\n",
    "    'file_type': 'nc',\n",
    "}\n",
    "\n",
    "files_a2e = a2e.search(filter_a2e, table='Inventory')\n",
    "files_a2e"
   ]
  },
  {
   "cell_type": "code",
   "execution_count": null,
   "id": "2aab23bb",
   "metadata": {},
   "outputs": [],
   "source": [
    "# this code costs money\n",
    "path = ''\n",
    "# downloaded_files = a2e._download_from_urls(urls, path)\n",
    "\n",
    "filter = {\n",
    "    'Dataset': 'wfip2/sodar.z17.00',\n",
    "    'date_time': {\n",
    "        'between': [\"20150908000000\", \"20150910000000\"]\n",
    "    },\n",
    "}\n",
    "\n",
    "downloaded_files = a2e.download_search(filter, path)"
   ]
  },
  {
   "cell_type": "code",
   "execution_count": null,
   "id": "766e20f9",
   "metadata": {},
   "outputs": [],
   "source": [
    "print(len(downloaded_files))"
   ]
  }
 ],
 "metadata": {
  "kernelspec": {
   "display_name": "Python 3.10.5 64-bit",
   "language": "python",
   "name": "python3"
  },
  "language_info": {
   "codemirror_mode": {
    "name": "ipython",
    "version": 3
   },
   "file_extension": ".py",
   "mimetype": "text/x-python",
   "name": "python",
   "nbconvert_exporter": "python",
   "pygments_lexer": "ipython3",
   "version": "3.10.5"
  },
  "vscode": {
   "interpreter": {
    "hash": "ff199f3c0bcc7dd0ae162ad7b3bd12af7e00097238e504015458b063eb5dfb81"
   }
  }
 },
 "nbformat": 4,
 "nbformat_minor": 5
}
