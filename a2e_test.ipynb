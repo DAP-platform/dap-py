{
 "cells": [
  {
   "cell_type": "code",
   "execution_count": null,
   "id": "ce722843",
   "metadata": {},
   "outputs": [],
   "source": [
    "%load_ext autoreload\n",
    "%autoreload 2"
   ]
  },
  {
   "cell_type": "code",
   "execution_count": null,
   "id": "9b2d489a-5b25-4a5f-a39a-ac7cb4e961b4",
   "metadata": {},
   "outputs": [],
   "source": [
    "from a2e import dap"
   ]
  },
  {
   "cell_type": "code",
   "execution_count": null,
   "id": "fcef431f-3d87-4eeb-8897-03d468bbfc45",
   "metadata": {},
   "outputs": [],
   "source": [
    "a2e = dap('a2e.energy.gov')\n",
    "a2e.setup_cert_auth(username='', password='')"
   ]
  },
  {
   "cell_type": "code",
   "execution_count": null,
   "id": "56a10673-1536-436c-a532-20fb91fa58f1",
   "metadata": {},
   "outputs": [],
   "source": [
    "#lw = dap('livewire.energy.gov')\n",
    "lw = dap('dev.livewire.labworks.org')\n",
    "\n",
    "lw.setup_cert_auth(username='', password='')"
   ]
  },
  {
   "cell_type": "code",
   "execution_count": null,
   "id": "a94a5d82-e3e6-45f5-97b8-f3ce1153f0c9",
   "metadata": {},
   "outputs": [],
   "source": [
    "filter_a2e = {\n",
    "    'Dataset': 'wfip2/lidar.z04.a0',\n",
    "    'date_time': {\n",
    "        'between': ['20150101000000', '20161104000000']\n",
    "    },\n",
    "    'file_type': 'nc',\n",
    "}\n",
    "files_a2e = a2e.search(filter_a2e, table='stats')\n",
    "files_a2e\n",
    "\n"
   ]
  },
  {
   "cell_type": "code",
   "execution_count": null,
   "id": "5c581f4e-a51d-4f54-88e8-7c25b3e793fb",
   "metadata": {},
   "outputs": [],
   "source": [
    "filter_a2e = {\n",
    "    'Dataset': 'wfip2/lidar.z04.a0',\n",
    "    # 'date_time': {\n",
    "    #     'between': ['20150101000000', '20161104000000']\n",
    "    # },\n",
    "    # 'file_type': 'nc',\n",
    "}\n",
    "files_a2e = a2e.search(filter_a2e, table='report')\n",
    "files_a2e"
   ]
  },
  {
   "cell_type": "code",
   "execution_count": null,
   "id": "345b365d-7431-403a-b93a-b57f41ead65b",
   "metadata": {},
   "outputs": [],
   "source": [
    "filter_lw= {\n",
    "    # \"Dataset\": \"ld-cav-functionality/cadillac-ct6\",\n",
    "    \"Dataset\":\"test/kennewick.00\",\n",
    "    # 'latest':True\n",
    "    # 'file_type': 'json',\n",
    "}"
   ]
  },
  {
   "cell_type": "code",
   "execution_count": null,
   "id": "76995f33-377b-4cba-98cc-b99da3a9b10b",
   "metadata": {},
   "outputs": [],
   "source": [
    "files_lw = lw.search(filter_lw, table='report')\n",
    "files_lw"
   ]
  },
  {
   "cell_type": "code",
   "execution_count": null,
   "id": "bd33072a-2cc4-4e26-bb0d-65d51520ae99",
   "metadata": {},
   "outputs": [],
   "source": [
    "files_lw2 = lw.search(filter_lw, table='stats')\n",
    "print(files_lw2)"
   ]
  }
 ],
 "metadata": {
  "kernelspec": {
   "display_name": "Python 3.10.5 64-bit",
   "language": "python",
   "name": "python3"
  },
  "language_info": {
   "codemirror_mode": {
    "name": "ipython",
    "version": 3
   },
   "file_extension": ".py",
   "mimetype": "text/x-python",
   "name": "python",
   "nbconvert_exporter": "python",
   "pygments_lexer": "ipython3",
   "version": "3.10.5"
  },
  "vscode": {
   "interpreter": {
    "hash": "ff199f3c0bcc7dd0ae162ad7b3bd12af7e00097238e504015458b063eb5dfb81"
   }
  }
 },
 "nbformat": 4,
 "nbformat_minor": 5
}
