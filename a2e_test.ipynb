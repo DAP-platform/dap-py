{
 "cells": [
  {
   "cell_type": "code",
   "execution_count": 6,
   "id": "9b2d489a-5b25-4a5f-a39a-ac7cb4e961b4",
   "metadata": {},
   "outputs": [],
   "source": [
    "from a2e import dap"
   ]
  },
  {
   "cell_type": "code",
   "execution_count": 9,
   "id": "fcef431f-3d87-4eeb-8897-03d468bbfc45",
   "metadata": {},
   "outputs": [
    {
     "name": "stdout",
     "output_type": "stream",
     "text": [
      "No authentication found. Using guest credentials...\n",
      "Expecting property name enclosed in double quotes: line 1 column 2 (char 1)\n"
     ]
    },
    {
     "data": {
      "text/plain": [
       "False"
      ]
     },
     "execution_count": 9,
     "metadata": {},
     "output_type": "execute_result"
    }
   ],
   "source": [
    "a2e = dap('a2e.energy.gov')\n",
    "a2e.setup_cert_auth(username='', password='')"
   ]
  },
  {
   "cell_type": "code",
   "execution_count": 8,
   "id": "56a10673-1536-436c-a532-20fb91fa58f1",
   "metadata": {},
   "outputs": [
    {
     "name": "stdout",
     "output_type": "stream",
     "text": [
      "No authentication found. Using guest credentials...\n",
      "No authentication found. Using guest credentials...\n",
      "Success!\n"
     ]
    },
    {
     "data": {
      "text/plain": [
       "True"
      ]
     },
     "execution_count": 8,
     "metadata": {},
     "output_type": "execute_result"
    }
   ],
   "source": [
    "lw = dap('livewire.energy.gov')\n",
    "lw = dap('dev.livewire.labworks.org')\n",
    "\n",
    "lw.setup_cert_auth(username='', password='')"
   ]
  },
  {
   "cell_type": "code",
   "execution_count": 10,
   "id": "a94a5d82-e3e6-45f5-97b8-f3ce1153f0c9",
   "metadata": {},
   "outputs": [
    {
     "name": "stdout",
     "output_type": "stream",
     "text": [
      "{'Authorization': 'Basic Z3Vlc3Q6Z3Vlc3Q='}\n"
     ]
    },
    {
     "data": {
      "text/plain": [
       "{'name': 'InvStats',\n",
       " 'stats': {'range': None,\n",
       "  'days': ['20150925-20160117', '20160119-20161022', '20161025-20161104'],\n",
       "  'count': 27323,\n",
       "  'countdev': 10,\n",
       "  'size': 353665811297,\n",
       "  'sizedev': 109450169}}"
      ]
     },
     "execution_count": 10,
     "metadata": {},
     "output_type": "execute_result"
    }
   ],
   "source": [
    "filter_a2e = {\n",
    "    'Dataset': 'wfip2/lidar.z04.a0',\n",
    "    'date_time': {\n",
    "        'between': ['20150101000000', '20161104000000']\n",
    "    },\n",
    "    'file_type': 'nc',\n",
    "}\n",
    "files_a2e = a2e.search(filter_a2e, table='stats')\n",
    "files_a2e\n",
    "\n"
   ]
  },
  {
   "cell_type": "code",
   "execution_count": 11,
   "id": "5c581f4e-a51d-4f54-88e8-7c25b3e793fb",
   "metadata": {},
   "outputs": [
    {
     "name": "stdout",
     "output_type": "stream",
     "text": [
      "{'Authorization': 'Basic Z3Vlc3Q6Z3Vlc3Q='}\n"
     ]
    },
    {
     "data": {
      "text/plain": [
       "[{'size': 415440418568,\n",
       "  'data_begins': '20150925',\n",
       "  'modtime': 1611092598190,\n",
       "  'Dataset': 'wfip2/lidar.z04.a0',\n",
       "  'last_reprocess': '20170405',\n",
       "  'group': '__PUBLIC__',\n",
       "  '2fa': False,\n",
       "  'inventory_name': 'Inventory',\n",
       "  'file_types': ['nc'],\n",
       "  'data_ends': '20170405',\n",
       "  'full_extensions': ['beamdata_stare.nc',\n",
       "   'beamdata_rhi.nc',\n",
       "   'beamdata_ppi.nc'],\n",
       "  'file_count': 32872,\n",
       "  'historical_files': 0,\n",
       "  'external': None,\n",
       "  'glacier_days': None,\n",
       "  'images': None,\n",
       "  'range_min': None,\n",
       "  'range_max': None,\n",
       "  'range': None}]"
      ]
     },
     "execution_count": 11,
     "metadata": {},
     "output_type": "execute_result"
    }
   ],
   "source": [
    "filter_a2e = {\n",
    "    'Dataset': 'wfip2/lidar.z04.a0',\n",
    "    # 'date_time': {\n",
    "    #     'between': ['20150101000000', '20161104000000']\n",
    "    # },\n",
    "    # 'file_type': 'nc',\n",
    "}\n",
    "files_a2e = a2e.search(filter_a2e, table='report')\n",
    "files_a2e"
   ]
  },
  {
   "cell_type": "code",
   "execution_count": null,
   "id": "b02f9a71-bb60-4dbc-bda2-87482e42b21d",
   "metadata": {
    "jupyter": {
     "source_hidden": true
    },
    "tags": []
   },
   "outputs": [],
   "source": []
  },
  {
   "cell_type": "code",
   "execution_count": 12,
   "id": "345b365d-7431-403a-b93a-b57f41ead65b",
   "metadata": {},
   "outputs": [],
   "source": [
    "filter_lw= {\n",
    "    # \"Dataset\": \"ld-cav-functionality/cadillac-ct6\",\n",
    "    \"Dataset\":\"test/kennewick.00\",\n",
    "    # 'latest':True\n",
    "    # 'file_type': 'json',\n",
    "}"
   ]
  },
  {
   "cell_type": "code",
   "execution_count": 13,
   "id": "76995f33-377b-4cba-98cc-b99da3a9b10b",
   "metadata": {},
   "outputs": [
    {
     "name": "stdout",
     "output_type": "stream",
     "text": [
      "{'Authorization': 'Cert YldsamFHRmxiQzVyYVdWaWRYSjBla0J3Ym01c0xtZHZkZz09OlpYckU2SzJmdnhyWlZuM1VSUzJsZjJjdjBGQTFQcTJ6TjRmdkxKWUJpbDZ0d2U3QlQ1Ok1UUTNMakU0TlM0eE1qWXVNelE9'}\n"
     ]
    },
    {
     "data": {
      "text/plain": [
       "[{'size': 0,\n",
       "  'data_begins': 999999999,\n",
       "  'modtime': 0,\n",
       "  'Dataset': None,\n",
       "  'last_reprocess': 0,\n",
       "  'group': None,\n",
       "  '2fa': False,\n",
       "  'file_types': [],\n",
       "  'data_ends': 0,\n",
       "  'full_extensions': [],\n",
       "  'file_count': 0,\n",
       "  'historical_files': 0,\n",
       "  'external': None,\n",
       "  'range_min': None,\n",
       "  'images': None,\n",
       "  'inventory_name': None,\n",
       "  'glacier_days': None,\n",
       "  'range_max': None,\n",
       "  'range': None}]"
      ]
     },
     "execution_count": 13,
     "metadata": {},
     "output_type": "execute_result"
    }
   ],
   "source": [
    "files_lw = lw.search(filter_lw, table='report')\n",
    "files_lw"
   ]
  },
  {
   "cell_type": "code",
   "execution_count": 14,
   "id": "bd33072a-2cc4-4e26-bb0d-65d51520ae99",
   "metadata": {},
   "outputs": [
    {
     "name": "stdout",
     "output_type": "stream",
     "text": [
      "{'Authorization': 'Cert YldsamFHRmxiQzVyYVdWaWRYSjBla0J3Ym01c0xtZHZkZz09OlpYckU2SzJmdnhyWlZuM1VSUzJsZjJjdjBGQTFQcTJ6TjRmdkxKWUJpbDZ0d2U3QlQ1Ok1UUTNMakU0TlM0eE1qWXVNelE9'}\n",
      "{\"status\": \"internal server error\", \"message\": \"An error occurred (ResourceNotFoundException) when calling the Query operation: Requested resource not found\"}\n"
     ]
    },
    {
     "ename": "BadStatusCodeError",
     "evalue": "Server Returned Bad Status Code\nStatus Code: 500\nReason: An error occurred (ResourceNotFoundException) when calling the Query operation: Requested resource not found",
     "output_type": "error",
     "traceback": [
      "\u001b[1;31m---------------------------------------------------------------------------\u001b[0m",
      "\u001b[1;31mBadStatusCodeError\u001b[0m                        Traceback (most recent call last)",
      "\u001b[1;32mc:\\Users\\kieb843\\Projects\\dap-py\\a2e_test.ipynb Cell 9\u001b[0m in \u001b[0;36m<cell line: 1>\u001b[1;34m()\u001b[0m\n\u001b[1;32m----> <a href='vscode-notebook-cell:/c%3A/Users/kieb843/Projects/dap-py/a2e_test.ipynb#ch0000009?line=0'>1</a>\u001b[0m files_lw2 \u001b[39m=\u001b[39m lw\u001b[39m.\u001b[39;49msearch(filter_lw, table\u001b[39m=\u001b[39;49m\u001b[39m'\u001b[39;49m\u001b[39mstats\u001b[39;49m\u001b[39m'\u001b[39;49m)\n\u001b[0;32m      <a href='vscode-notebook-cell:/c%3A/Users/kieb843/Projects/dap-py/a2e_test.ipynb#ch0000009?line=1'>2</a>\u001b[0m \u001b[39mprint\u001b[39m(files_lw2)\n",
      "File \u001b[1;32mc:\\Users\\kieb843\\Projects\\dap-py\\a2e\\dap.py:225\u001b[0m, in \u001b[0;36mdap.search\u001b[1;34m(self, filter_arg, table)\u001b[0m\n\u001b[0;32m    223\u001b[0m \u001b[39mif\u001b[39;00m req\u001b[39m.\u001b[39mstatus_code \u001b[39m!=\u001b[39m \u001b[39m200\u001b[39m:\n\u001b[0;32m    224\u001b[0m     \u001b[39mprint\u001b[39m(req\u001b[39m.\u001b[39mtext)\n\u001b[1;32m--> 225\u001b[0m     \u001b[39mraise\u001b[39;00m BadStatusCodeError(req)\n\u001b[0;32m    227\u001b[0m req \u001b[39m=\u001b[39m req\u001b[39m.\u001b[39mjson()\n\u001b[0;32m    228\u001b[0m \u001b[39m# files = [x['Filename'] for x in req]\u001b[39;00m\n",
      "\u001b[1;31mBadStatusCodeError\u001b[0m: Server Returned Bad Status Code\nStatus Code: 500\nReason: An error occurred (ResourceNotFoundException) when calling the Query operation: Requested resource not found"
     ]
    }
   ],
   "source": [
    "files_lw2 = lw.search(filter_lw, table='stats')\n",
    "print(files_lw2)"
   ]
  },
  {
   "cell_type": "code",
   "execution_count": null,
   "id": "e355161c-aa6b-4211-a5c1-af7dce9a4f21",
   "metadata": {},
   "outputs": [],
   "source": []
  },
  {
   "cell_type": "code",
   "execution_count": null,
   "id": "2aa91e82-29f7-41d1-8706-99cbe2838eff",
   "metadata": {},
   "outputs": [],
   "source": []
  }
 ],
 "metadata": {
  "kernelspec": {
   "display_name": "Python 3.10.5 64-bit",
   "language": "python",
   "name": "python3"
  },
  "language_info": {
   "codemirror_mode": {
    "name": "ipython",
    "version": 3
   },
   "file_extension": ".py",
   "mimetype": "text/x-python",
   "name": "python",
   "nbconvert_exporter": "python",
   "pygments_lexer": "ipython3",
   "version": "3.10.5"
  },
  "vscode": {
   "interpreter": {
    "hash": "ff199f3c0bcc7dd0ae162ad7b3bd12af7e00097238e504015458b063eb5dfb81"
   }
  }
 },
 "nbformat": 4,
 "nbformat_minor": 5
}
